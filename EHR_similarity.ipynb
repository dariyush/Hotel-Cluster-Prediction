{
 "cells": [
  {
   "cell_type": "code",
   "execution_count": 1,
   "metadata": {
    "collapsed": false
   },
   "outputs": [],
   "source": [
    "import warnings\n",
    "warnings.filterwarnings(\"ignore\")\n",
    "import pandas as pd\n",
    "import numpy as np\n",
    "from scipy.spatial.distance import cdist\n",
    "from collections import Counter\n",
    "import datetime\n"
   ]
  },
  {
   "cell_type": "code",
   "execution_count": 2,
   "metadata": {
    "collapsed": false
   },
   "outputs": [
    {
     "name": "stdout",
     "output_type": "stream",
     "text": [
      "2000000 rows of train data processed.\n",
      "4000000 rows of train data processed.\n",
      "6000000 rows of train data processed.\n",
      "8000000 rows of train data processed.\n",
      "10000000 rows of train data processed.\n",
      "12000000 rows of train data processed.\n",
      "14000000 rows of train data processed.\n",
      "16000000 rows of train data processed.\n",
      "18000000 rows of train data processed.\n",
      "20000000 rows of train data processed.\n",
      "22000000 rows of train data processed.\n",
      "24000000 rows of train data processed.\n",
      "26000000 rows of train data processed.\n",
      "28000000 rows of train data processed.\n",
      "30000000 rows of train data processed.\n",
      "32000000 rows of train data processed.\n",
      "34000000 rows of train data processed.\n",
      "36000000 rows of train data processed.\n",
      "38000000 rows of train data processed.\n"
     ]
    },
    {
     "data": {
      "text/html": [
       "<div>\n",
       "<table border=\"1\" class=\"dataframe\">\n",
       "  <thead>\n",
       "    <tr style=\"text-align: right;\">\n",
       "      <th></th>\n",
       "      <th>site_name</th>\n",
       "      <th>is_package</th>\n",
       "      <th>srch_ci</th>\n",
       "      <th>srch_co</th>\n",
       "      <th>srch_destination_type_id</th>\n",
       "      <th>hotel_country</th>\n",
       "      <th>hotel_market</th>\n",
       "    </tr>\n",
       "  </thead>\n",
       "  <tbody>\n",
       "    <tr>\n",
       "      <th>1</th>\n",
       "      <td>2</td>\n",
       "      <td>1</td>\n",
       "      <td>18</td>\n",
       "      <td>22</td>\n",
       "      <td>1</td>\n",
       "      <td>50</td>\n",
       "      <td>628</td>\n",
       "    </tr>\n",
       "    <tr>\n",
       "      <th>20</th>\n",
       "      <td>2</td>\n",
       "      <td>1</td>\n",
       "      <td>50</td>\n",
       "      <td>52</td>\n",
       "      <td>1</td>\n",
       "      <td>50</td>\n",
       "      <td>191</td>\n",
       "    </tr>\n",
       "    <tr>\n",
       "      <th>27</th>\n",
       "      <td>30</td>\n",
       "      <td>1</td>\n",
       "      <td>83</td>\n",
       "      <td>91</td>\n",
       "      <td>1</td>\n",
       "      <td>185</td>\n",
       "      <td>185</td>\n",
       "    </tr>\n",
       "    <tr>\n",
       "      <th>72</th>\n",
       "      <td>30</td>\n",
       "      <td>0</td>\n",
       "      <td>215</td>\n",
       "      <td>217</td>\n",
       "      <td>1</td>\n",
       "      <td>151</td>\n",
       "      <td>69</td>\n",
       "    </tr>\n",
       "    <tr>\n",
       "      <th>79</th>\n",
       "      <td>2</td>\n",
       "      <td>1</td>\n",
       "      <td>50</td>\n",
       "      <td>55</td>\n",
       "      <td>1</td>\n",
       "      <td>50</td>\n",
       "      <td>680</td>\n",
       "    </tr>\n",
       "  </tbody>\n",
       "</table>\n",
       "</div>"
      ],
      "text/plain": [
       "    site_name  is_package  srch_ci  srch_co  srch_destination_type_id  \\\n",
       "1           2           1       18       22                         1   \n",
       "20          2           1       50       52                         1   \n",
       "27         30           1       83       91                         1   \n",
       "72         30           0      215      217                         1   \n",
       "79          2           1       50       55                         1   \n",
       "\n",
       "    hotel_country  hotel_market  \n",
       "1              50           628  \n",
       "20             50           191  \n",
       "27            185           185  \n",
       "72            151            69  \n",
       "79             50           680  "
      ]
     },
     "execution_count": 2,
     "metadata": {},
     "output_type": "execute_result"
    }
   ],
   "source": [
    "train = pd.DataFrame()\n",
    "chunk_size = 2000000\n",
    "j = 0\n",
    "\n",
    "for train_chunk in pd.read_csv('./input/train.csv', chunksize=chunk_size):\n",
    "    train_chunk = train_chunk[train_chunk['is_booking']==1]\n",
    "    train_chunk = train_chunk.drop(['channel', 'user_location_city', 'user_id', 'is_booking',\n",
    "                              'orig_destination_distance', 'is_mobile', 'cnt',\n",
    "                             'user_location_region', 'srch_rm_cnt', 'srch_adults_cnt',\n",
    "                             'user_location_country', 'srch_destination_id',\n",
    "                             'srch_children_cnt', 'posa_continent', 'hotel_continent'],\n",
    "                         axis=1)\n",
    "    \n",
    "    train_chunk['date_time'] = pd.to_datetime(train_chunk['date_time'], errors='coerce').map(lambda x: x.date())\n",
    "    train_chunk['srch_ci'] = pd.to_datetime(train_chunk['srch_ci'], errors='coerce').map(lambda x: x.date())\n",
    "    train_chunk['srch_ci'][pd.isnull(train_chunk['srch_ci'])] = train_chunk['date_time'][pd.isnull(train_chunk['srch_ci'])]\n",
    "    train_chunk['srch_co'] = pd.to_datetime(train_chunk['srch_co'], errors='coerce').map(lambda x: x.date())\n",
    "    train_chunk['srch_co'][pd.isnull(train_chunk['srch_co'])] = train_chunk['date_time'][pd.isnull(train_chunk['srch_co'])]\n",
    "    train_chunk['srch_ci'] = (train_chunk['srch_ci']-train_chunk['date_time']).map(lambda x: x.days)\n",
    "    train_chunk['srch_co'] = (train_chunk['srch_co']-train_chunk['date_time']).map(lambda x: x.days)\n",
    "    train_chunk = train_chunk.drop(['date_time'], axis=1)\n",
    "    train = train.append(train_chunk)\n",
    "    j+=1\n",
    "    print('{} rows of train data processed.'.format(j*chunk_size))\n",
    "hotel_cluster = train['hotel_cluster']\n",
    "train = train.drop(['hotel_cluster'], axis=1)\n",
    "train.head()"
   ]
  },
  {
   "cell_type": "code",
   "execution_count": 3,
   "metadata": {
    "collapsed": false
   },
   "outputs": [
    {
     "data": {
      "text/html": [
       "<div>\n",
       "<table border=\"1\" class=\"dataframe\">\n",
       "  <thead>\n",
       "    <tr style=\"text-align: right;\">\n",
       "      <th></th>\n",
       "      <th>id</th>\n",
       "      <th>site_name</th>\n",
       "      <th>is_package</th>\n",
       "      <th>srch_ci</th>\n",
       "      <th>srch_co</th>\n",
       "      <th>srch_destination_type_id</th>\n",
       "      <th>hotel_country</th>\n",
       "      <th>hotel_market</th>\n",
       "    </tr>\n",
       "  </thead>\n",
       "  <tbody>\n",
       "    <tr>\n",
       "      <th>0</th>\n",
       "      <td>0</td>\n",
       "      <td>2</td>\n",
       "      <td>0</td>\n",
       "      <td>259</td>\n",
       "      <td>263</td>\n",
       "      <td>6</td>\n",
       "      <td>204</td>\n",
       "      <td>27</td>\n",
       "    </tr>\n",
       "    <tr>\n",
       "      <th>1</th>\n",
       "      <td>1</td>\n",
       "      <td>2</td>\n",
       "      <td>0</td>\n",
       "      <td>231</td>\n",
       "      <td>234</td>\n",
       "      <td>7</td>\n",
       "      <td>204</td>\n",
       "      <td>1540</td>\n",
       "    </tr>\n",
       "    <tr>\n",
       "      <th>2</th>\n",
       "      <td>2</td>\n",
       "      <td>2</td>\n",
       "      <td>0</td>\n",
       "      <td>49</td>\n",
       "      <td>50</td>\n",
       "      <td>1</td>\n",
       "      <td>50</td>\n",
       "      <td>699</td>\n",
       "    </tr>\n",
       "    <tr>\n",
       "      <th>3</th>\n",
       "      <td>3</td>\n",
       "      <td>2</td>\n",
       "      <td>1</td>\n",
       "      <td>0</td>\n",
       "      <td>2</td>\n",
       "      <td>1</td>\n",
       "      <td>50</td>\n",
       "      <td>628</td>\n",
       "    </tr>\n",
       "    <tr>\n",
       "      <th>4</th>\n",
       "      <td>4</td>\n",
       "      <td>2</td>\n",
       "      <td>0</td>\n",
       "      <td>5</td>\n",
       "      <td>6</td>\n",
       "      <td>1</td>\n",
       "      <td>50</td>\n",
       "      <td>538</td>\n",
       "    </tr>\n",
       "  </tbody>\n",
       "</table>\n",
       "</div>"
      ],
      "text/plain": [
       "   id  site_name  is_package  srch_ci  srch_co  srch_destination_type_id  \\\n",
       "0   0          2           0      259      263                         6   \n",
       "1   1          2           0      231      234                         7   \n",
       "2   2          2           0       49       50                         1   \n",
       "3   3          2           1        0        2                         1   \n",
       "4   4          2           0        5        6                         1   \n",
       "\n",
       "   hotel_country  hotel_market  \n",
       "0            204            27  \n",
       "1            204          1540  \n",
       "2             50           699  \n",
       "3             50           628  \n",
       "4             50           538  "
      ]
     },
     "execution_count": 3,
     "metadata": {},
     "output_type": "execute_result"
    }
   ],
   "source": [
    "test = pd.read_csv('./input/test.csv')\n",
    "test = test.drop(['channel', 'user_location_city', 'user_id',\n",
    "                              'orig_destination_distance', 'is_mobile', \n",
    "                             'user_location_region', 'srch_rm_cnt', 'srch_adults_cnt',\n",
    "                             'user_location_country', 'srch_destination_id',\n",
    "                             'srch_children_cnt', 'posa_continent', 'hotel_continent'],\n",
    "                         axis=1)\n",
    "test['date_time'] = pd.to_datetime(test['date_time'], errors='coerce').map(lambda x: x.date())\n",
    "test['srch_ci'] = pd.to_datetime(test['srch_ci'], errors='coerce').map(lambda x: x.date())\n",
    "test['srch_ci'][pd.isnull(test['srch_ci'])] = test['date_time'][pd.isnull(test['srch_ci'])]\n",
    "test['srch_co'] = pd.to_datetime(test['srch_co'], errors='coerce').map(lambda x: x.date())\n",
    "test['srch_co'][pd.isnull(test['srch_co'])] = test['date_time'][pd.isnull(test['srch_co'])]\n",
    "test['srch_ci'] = (test['srch_ci']-test['date_time']).map(lambda x: x.days)\n",
    "test['srch_co'] = (test['srch_co']-test['date_time']).map(lambda x: x.days)\n",
    "\n",
    "test = test.drop(['date_time'], axis=1)\n",
    "test.head()"
   ]
  },
  {
   "cell_type": "code",
   "execution_count": 16,
   "metadata": {
    "collapsed": false,
    "scrolled": true
   },
   "outputs": [
    {
     "name": "stdout",
     "output_type": "stream",
     "text": [
      "%0.0 of test data processed!\n",
      "%0.03955316004039169 of test data processed!\n",
      "%0.07910632008078337 of test data processed!\n",
      "%0.11865948012117507 of test data processed!\n",
      "%0.15821264016156675 of test data processed!\n",
      "%0.19776580020195844 of test data processed!\n",
      "%0.23731896024235014 of test data processed!\n",
      "%0.27687212028274183 of test data processed!\n",
      "%0.3164252803231335 of test data processed!\n",
      "%0.35597844036352516 of test data processed!\n",
      "%0.3955316004039169 of test data processed!\n",
      "%0.43508476044430855 of test data processed!\n",
      "%0.47463792048470027 of test data processed!\n",
      "%0.5141910805250919 of test data processed!\n",
      "%0.5537442405654837 of test data processed!\n",
      "%0.5932974006058753 of test data processed!\n",
      "%0.632850560646267 of test data processed!\n",
      "%0.6724037206866587 of test data processed!\n",
      "%0.7119568807270503 of test data processed!\n",
      "%0.7515100407674421 of test data processed!\n",
      "%0.7910632008078338 of test data processed!\n",
      "%0.8306163608482254 of test data processed!\n",
      "%0.8701695208886171 of test data processed!\n",
      "%0.9097226809290088 of test data processed!\n",
      "%0.9492758409694005 of test data processed!\n",
      "%0.9888290010097922 of test data processed!\n"
     ]
    },
    {
     "ename": "KeyboardInterrupt",
     "evalue": "",
     "output_type": "error",
     "traceback": [
      "\u001b[1;31m---------------------------------------------------------------------------\u001b[0m",
      "\u001b[1;31mKeyboardInterrupt\u001b[0m                         Traceback (most recent call last)",
      "\u001b[1;32m<ipython-input-16-5f5d8235ebd4>\u001b[0m in \u001b[0;36m<module>\u001b[1;34m()\u001b[0m\n\u001b[0;32m      9\u001b[0m     \u001b[0mout\u001b[0m\u001b[1;33m.\u001b[0m\u001b[0mwrite\u001b[0m\u001b[1;33m(\u001b[0m\u001b[0mstr\u001b[0m\u001b[1;33m(\u001b[0m\u001b[0mtest_row\u001b[0m\u001b[1;33m.\u001b[0m\u001b[0miloc\u001b[0m\u001b[1;33m[\u001b[0m\u001b[1;36m0\u001b[0m\u001b[1;33m]\u001b[0m\u001b[1;33m)\u001b[0m\u001b[1;33m+\u001b[0m\u001b[1;34m','\u001b[0m\u001b[1;33m)\u001b[0m\u001b[1;33m\u001b[0m\u001b[0m\n\u001b[0;32m     10\u001b[0m     \u001b[0mX_test\u001b[0m \u001b[1;33m=\u001b[0m \u001b[1;33m[\u001b[0m\u001b[0mtest_row\u001b[0m\u001b[1;33m.\u001b[0m\u001b[0miloc\u001b[0m\u001b[1;33m[\u001b[0m\u001b[1;36m1\u001b[0m\u001b[1;33m:\u001b[0m\u001b[1;33m]\u001b[0m\u001b[1;33m.\u001b[0m\u001b[0mvalues\u001b[0m\u001b[1;33m]\u001b[0m\u001b[1;33m\u001b[0m\u001b[0m\n\u001b[1;32m---> 11\u001b[1;33m     \u001b[0msimilarities\u001b[0m \u001b[1;33m=\u001b[0m \u001b[0mcdist\u001b[0m\u001b[1;33m(\u001b[0m\u001b[0mX_test\u001b[0m\u001b[1;33m,\u001b[0m \u001b[0mX_train\u001b[0m\u001b[1;33m,\u001b[0m \u001b[1;34m'cosine'\u001b[0m\u001b[1;33m)\u001b[0m\u001b[1;33m\u001b[0m\u001b[0m\n\u001b[0m\u001b[0;32m     12\u001b[0m \u001b[1;33m\u001b[0m\u001b[0m\n\u001b[0;32m     13\u001b[0m     \u001b[0mhc\u001b[0m \u001b[1;33m=\u001b[0m \u001b[0mnp\u001b[0m\u001b[1;33m.\u001b[0m\u001b[0mzeros\u001b[0m\u001b[1;33m(\u001b[0m\u001b[1;36m10\u001b[0m\u001b[1;33m,\u001b[0m \u001b[0mint\u001b[0m\u001b[1;33m)\u001b[0m\u001b[1;33m\u001b[0m\u001b[0m\n",
      "\u001b[1;32mC:\\Users\\Dariyush\\Anaconda3\\lib\\site-packages\\scipy\\spatial\\distance.py\u001b[0m in \u001b[0;36mcdist\u001b[1;34m(XA, XB, metric, p, V, VI, w)\u001b[0m\n\u001b[0;32m   2164\u001b[0m                                                  _convert_to_double(XB), VV, dm)\n\u001b[0;32m   2165\u001b[0m         \u001b[1;32melif\u001b[0m \u001b[0mmstr\u001b[0m \u001b[1;32min\u001b[0m \u001b[0mset\u001b[0m\u001b[1;33m(\u001b[0m\u001b[1;33m[\u001b[0m\u001b[1;34m'cosine'\u001b[0m\u001b[1;33m,\u001b[0m \u001b[1;34m'cos'\u001b[0m\u001b[1;33m]\u001b[0m\u001b[1;33m)\u001b[0m\u001b[1;33m:\u001b[0m\u001b[1;33m\u001b[0m\u001b[0m\n\u001b[1;32m-> 2166\u001b[1;33m             \u001b[0m_cosine_cdist\u001b[0m\u001b[1;33m(\u001b[0m\u001b[0mXA\u001b[0m\u001b[1;33m,\u001b[0m \u001b[0mXB\u001b[0m\u001b[1;33m,\u001b[0m \u001b[0mdm\u001b[0m\u001b[1;33m)\u001b[0m\u001b[1;33m\u001b[0m\u001b[0m\n\u001b[0m\u001b[0;32m   2167\u001b[0m         \u001b[1;32melif\u001b[0m \u001b[0mmstr\u001b[0m \u001b[1;32min\u001b[0m \u001b[0mset\u001b[0m\u001b[1;33m(\u001b[0m\u001b[1;33m[\u001b[0m\u001b[1;34m'correlation'\u001b[0m\u001b[1;33m,\u001b[0m \u001b[1;34m'co'\u001b[0m\u001b[1;33m]\u001b[0m\u001b[1;33m)\u001b[0m\u001b[1;33m:\u001b[0m\u001b[1;33m\u001b[0m\u001b[0m\n\u001b[0;32m   2168\u001b[0m             \u001b[0mXA\u001b[0m \u001b[1;33m=\u001b[0m \u001b[0mnp\u001b[0m\u001b[1;33m.\u001b[0m\u001b[0marray\u001b[0m\u001b[1;33m(\u001b[0m\u001b[0mXA\u001b[0m\u001b[1;33m,\u001b[0m \u001b[0mdtype\u001b[0m\u001b[1;33m=\u001b[0m\u001b[0mnp\u001b[0m\u001b[1;33m.\u001b[0m\u001b[0mdouble\u001b[0m\u001b[1;33m,\u001b[0m \u001b[0mcopy\u001b[0m\u001b[1;33m=\u001b[0m\u001b[1;32mTrue\u001b[0m\u001b[1;33m)\u001b[0m\u001b[1;33m\u001b[0m\u001b[0m\n",
      "\u001b[1;32mC:\\Users\\Dariyush\\Anaconda3\\lib\\site-packages\\scipy\\spatial\\distance.py\u001b[0m in \u001b[0;36m_cosine_cdist\u001b[1;34m(XA, XB, dm)\u001b[0m\n\u001b[0;32m   1766\u001b[0m \u001b[1;33m\u001b[0m\u001b[0m\n\u001b[0;32m   1767\u001b[0m     \u001b[0mnormsA\u001b[0m \u001b[1;33m=\u001b[0m \u001b[0m_row_norms\u001b[0m\u001b[1;33m(\u001b[0m\u001b[0mXA\u001b[0m\u001b[1;33m)\u001b[0m\u001b[1;33m\u001b[0m\u001b[0m\n\u001b[1;32m-> 1768\u001b[1;33m     \u001b[0mnormsB\u001b[0m \u001b[1;33m=\u001b[0m \u001b[0m_row_norms\u001b[0m\u001b[1;33m(\u001b[0m\u001b[0mXB\u001b[0m\u001b[1;33m)\u001b[0m\u001b[1;33m\u001b[0m\u001b[0m\n\u001b[0m\u001b[0;32m   1769\u001b[0m \u001b[1;33m\u001b[0m\u001b[0m\n\u001b[0;32m   1770\u001b[0m     \u001b[0mnp\u001b[0m\u001b[1;33m.\u001b[0m\u001b[0mdot\u001b[0m\u001b[1;33m(\u001b[0m\u001b[0mXA\u001b[0m\u001b[1;33m,\u001b[0m \u001b[0mXB\u001b[0m\u001b[1;33m.\u001b[0m\u001b[0mT\u001b[0m\u001b[1;33m,\u001b[0m \u001b[0mout\u001b[0m\u001b[1;33m=\u001b[0m\u001b[0mdm\u001b[0m\u001b[1;33m)\u001b[0m\u001b[1;33m\u001b[0m\u001b[0m\n",
      "\u001b[1;32mC:\\Users\\Dariyush\\Anaconda3\\lib\\site-packages\\scipy\\spatial\\distance.py\u001b[0m in \u001b[0;36m_row_norms\u001b[1;34m(X)\u001b[0m\n\u001b[0;32m   1758\u001b[0m \u001b[1;32mdef\u001b[0m \u001b[0m_row_norms\u001b[0m\u001b[1;33m(\u001b[0m\u001b[0mX\u001b[0m\u001b[1;33m)\u001b[0m\u001b[1;33m:\u001b[0m\u001b[1;33m\u001b[0m\u001b[0m\n\u001b[0;32m   1759\u001b[0m     \u001b[0mnorms\u001b[0m \u001b[1;33m=\u001b[0m \u001b[0mnp\u001b[0m\u001b[1;33m.\u001b[0m\u001b[0meinsum\u001b[0m\u001b[1;33m(\u001b[0m\u001b[1;34m'ij,ij->i'\u001b[0m\u001b[1;33m,\u001b[0m \u001b[0mX\u001b[0m\u001b[1;33m,\u001b[0m \u001b[0mX\u001b[0m\u001b[1;33m)\u001b[0m\u001b[1;33m\u001b[0m\u001b[0m\n\u001b[1;32m-> 1760\u001b[1;33m     \u001b[1;32mreturn\u001b[0m \u001b[0mnp\u001b[0m\u001b[1;33m.\u001b[0m\u001b[0msqrt\u001b[0m\u001b[1;33m(\u001b[0m\u001b[0mnorms\u001b[0m\u001b[1;33m,\u001b[0m \u001b[0mout\u001b[0m\u001b[1;33m=\u001b[0m\u001b[0mnorms\u001b[0m\u001b[1;33m)\u001b[0m\u001b[1;33m\u001b[0m\u001b[0m\n\u001b[0m\u001b[0;32m   1761\u001b[0m \u001b[1;33m\u001b[0m\u001b[0m\n\u001b[0;32m   1762\u001b[0m \u001b[1;33m\u001b[0m\u001b[0m\n",
      "\u001b[1;31mKeyboardInterrupt\u001b[0m: "
     ]
    }
   ],
   "source": [
    "now = datetime.datetime.now()\n",
    "path = 'submission_' + str(now.strftime(\"%Y-%m-%d-%H-%M\")) + '.csv'\n",
    "out = open(path, 'w')\n",
    "out.write('id,hotel_cluster\\n')\n",
    "len_test = len(test)\n",
    "X_train = train.as_matrix()\n",
    "for idx, test_row in test.iterrows():\n",
    "        \n",
    "    out.write(str(test_row.iloc[0])+',')\n",
    "    X_test = [test_row.iloc[1:].values]\n",
    "    similarities = cdist(X_test, X_train, 'cosine')\n",
    "    \n",
    "    hc = np.zeros(10, int)\n",
    "    for i in range(10):\n",
    "        index = np.argmax(similarities)\n",
    "        hc[i] = hotel_cluster.values[index]; \n",
    "        similarities[:,index] = -1\n",
    "    #hc = hotel_cluster[(-similarities[0]).argsort()[:6]].values\n",
    "    hc_str = ' '.join([str(ite) for ite, it in Counter(hc).most_common(5)])\n",
    "    out.write(hc_str)\n",
    "    out.write('\\n')\n",
    "\n",
    "    if not idx%1000: \n",
    "        print('%{} of test data processed!'.format((100*idx/len_test)))\n",
    "    \n",
    "    #if idx==100: break\n",
    "\n",
    "out.close()\n",
    "print(datetime.datetime.now()-now)"
   ]
  },
  {
   "cell_type": "code",
   "execution_count": 11,
   "metadata": {
    "collapsed": false
   },
   "outputs": [
    {
     "data": {
      "text/plain": [
       "(2528243, 8)"
      ]
     },
     "execution_count": 11,
     "metadata": {},
     "output_type": "execute_result"
    }
   ],
   "source": [
    "test.shape"
   ]
  },
  {
   "cell_type": "code",
   "execution_count": 12,
   "metadata": {
    "collapsed": false
   },
   "outputs": [
    {
     "data": {
      "text/plain": [
       "(3000693, 7)"
      ]
     },
     "execution_count": 12,
     "metadata": {},
     "output_type": "execute_result"
    }
   ],
   "source": [
    "train.shape"
   ]
  },
  {
   "cell_type": "code",
   "execution_count": 13,
   "metadata": {
    "collapsed": false
   },
   "outputs": [
    {
     "data": {
      "text/plain": [
       "58"
      ]
     },
     "execution_count": 13,
     "metadata": {},
     "output_type": "execute_result"
    }
   ],
   "source": [
    "hotel_cluster.values[2]"
   ]
  },
  {
   "cell_type": "code",
   "execution_count": null,
   "metadata": {
    "collapsed": true
   },
   "outputs": [],
   "source": []
  }
 ],
 "metadata": {
  "kernelspec": {
   "display_name": "Python 3",
   "language": "python",
   "name": "python3"
  },
  "language_info": {
   "codemirror_mode": {
    "name": "ipython",
    "version": 3
   },
   "file_extension": ".py",
   "mimetype": "text/x-python",
   "name": "python",
   "nbconvert_exporter": "python",
   "pygments_lexer": "ipython3",
   "version": "3.5.1"
  }
 },
 "nbformat": 4,
 "nbformat_minor": 0
}
