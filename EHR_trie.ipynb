{
 "cells": [
  {
   "cell_type": "code",
   "execution_count": 2,
   "metadata": {
    "collapsed": false
   },
   "outputs": [
    {
     "data": {
      "text/plain": [
       "Index(['date_time', 'site_name', 'posa_continent', 'user_location_country',\n",
       "       'user_location_region', 'user_location_city',\n",
       "       'orig_destination_distance', 'user_id', 'is_mobile', 'is_package',\n",
       "       'channel', 'srch_ci', 'srch_co', 'srch_adults_cnt', 'srch_children_cnt',\n",
       "       'srch_rm_cnt', 'srch_destination_id', 'srch_destination_type_id',\n",
       "       'is_booking', 'cnt', 'hotel_continent', 'hotel_country', 'hotel_market',\n",
       "       'hotel_cluster'],\n",
       "      dtype='object')"
      ]
     },
     "execution_count": 2,
     "metadata": {},
     "output_type": "execute_result"
    }
   ],
   "source": [
    "import datetime\n",
    "import pandas as pd\n",
    "from heapq import nlargest\n",
    "from operator import itemgetter\n",
    "import math\n",
    "import datrie\n",
    "#ALPHABET = '0123456789'\n",
    "\n",
    "\n",
    "trainak = pd.read_csv('./input/train.csv', chunksize=100)\n",
    "train_ = trainak.get_chunk()\n",
    "train_.columns"
   ]
  },
  {
   "cell_type": "code",
   "execution_count": 44,
   "metadata": {
    "collapsed": false
   },
   "outputs": [
    {
     "name": "stdout",
     "output_type": "stream",
     "text": [
      "Read 100000 lines...\n",
      "Read 200000 lines...\n",
      "Read 300000 lines...\n",
      "Read 400000 lines...\n",
      "Read 500000 lines...\n",
      "Read 600000 lines...\n",
      "Read 700000 lines...\n",
      "Read 800000 lines...\n",
      "Read 900000 lines...\n",
      "Read 1000000 lines...\n",
      "Read 1100000 lines...\n",
      "Read 1200000 lines...\n",
      "Read 1300000 lines...\n",
      "Read 1400000 lines...\n",
      "Read 1500000 lines...\n",
      "Read 1600000 lines...\n",
      "Read 1700000 lines...\n",
      "Read 1800000 lines...\n",
      "Read 1900000 lines...\n",
      "Read 2000000 lines...\n",
      "Read 2100000 lines...\n",
      "Read 2200000 lines...\n",
      "Read 2300000 lines...\n",
      "Read 2400000 lines...\n",
      "Read 2500000 lines...\n",
      "Read 2600000 lines...\n",
      "Read 2700000 lines...\n",
      "Read 2800000 lines...\n",
      "Read 2900000 lines...\n",
      "Read 3000000 lines...\n",
      "Read 3100000 lines...\n",
      "Read 3200000 lines...\n",
      "Read 3300000 lines...\n",
      "Read 3400000 lines...\n",
      "Read 3500000 lines...\n",
      "Read 3600000 lines...\n",
      "Read 3700000 lines...\n",
      "Read 3800000 lines...\n",
      "Read 3900000 lines...\n",
      "Read 4000000 lines...\n",
      "Read 4100000 lines...\n",
      "Read 4200000 lines...\n",
      "Read 4300000 lines...\n",
      "Read 4400000 lines...\n",
      "Read 4500000 lines...\n",
      "Read 4600000 lines...\n",
      "Read 4700000 lines...\n",
      "Read 4800000 lines...\n",
      "Read 4900000 lines...\n",
      "Read 5000000 lines...\n",
      "Read 5100000 lines...\n",
      "Read 5200000 lines...\n",
      "Read 5300000 lines...\n",
      "Read 5400000 lines...\n",
      "Read 5500000 lines...\n",
      "Read 5600000 lines...\n",
      "Read 5700000 lines...\n",
      "Read 5800000 lines...\n",
      "Read 5900000 lines...\n",
      "Read 6000000 lines...\n",
      "Read 6100000 lines...\n",
      "Read 6200000 lines...\n",
      "Read 6300000 lines...\n",
      "Read 6400000 lines...\n",
      "Read 6500000 lines...\n",
      "Read 6600000 lines...\n",
      "Read 6700000 lines...\n",
      "Read 6800000 lines...\n",
      "Read 6900000 lines...\n",
      "Read 7000000 lines...\n",
      "Read 7100000 lines...\n",
      "Read 7200000 lines...\n",
      "Read 7300000 lines...\n",
      "Read 7400000 lines...\n",
      "Read 7500000 lines...\n",
      "Read 7600000 lines...\n",
      "Read 7700000 lines...\n",
      "Read 7800000 lines...\n",
      "Read 7900000 lines...\n",
      "Read 8000000 lines...\n",
      "Read 8100000 lines...\n",
      "Read 8200000 lines...\n",
      "Read 8300000 lines...\n",
      "Read 8400000 lines...\n",
      "Read 8500000 lines...\n",
      "Read 8600000 lines...\n",
      "Read 8700000 lines...\n",
      "Read 8800000 lines...\n",
      "Read 8900000 lines...\n",
      "Read 9000000 lines...\n",
      "Read 9100000 lines...\n",
      "Read 9200000 lines...\n",
      "Read 9300000 lines...\n",
      "Read 9400000 lines...\n",
      "Read 9500000 lines...\n",
      "Read 9600000 lines...\n",
      "Read 9700000 lines...\n",
      "Read 9800000 lines...\n",
      "Read 9900000 lines...\n",
      "Read 10000000 lines...\n",
      "Read 10100000 lines...\n",
      "Read 10200000 lines...\n",
      "Read 10300000 lines...\n",
      "Read 10400000 lines...\n",
      "Read 10500000 lines...\n",
      "Read 10600000 lines...\n",
      "Read 10700000 lines...\n",
      "Read 10800000 lines...\n",
      "Read 10900000 lines...\n",
      "Read 11000000 lines...\n",
      "Read 11100000 lines...\n",
      "Read 11200000 lines...\n",
      "Read 11300000 lines...\n",
      "Read 11400000 lines...\n",
      "Read 11500000 lines...\n",
      "Read 11600000 lines...\n",
      "Read 11700000 lines...\n",
      "Read 11800000 lines...\n",
      "Read 11900000 lines...\n",
      "Read 12000000 lines...\n",
      "Read 12100000 lines...\n",
      "Read 12200000 lines...\n",
      "Read 12300000 lines...\n",
      "Read 12400000 lines...\n",
      "Read 12500000 lines...\n",
      "Read 12600000 lines...\n",
      "Read 12700000 lines...\n",
      "Read 12800000 lines...\n",
      "Read 12900000 lines...\n",
      "Read 13000000 lines...\n",
      "Read 13100000 lines...\n",
      "Read 13200000 lines...\n",
      "Read 13300000 lines...\n",
      "Read 13400000 lines...\n",
      "Read 13500000 lines...\n",
      "Read 13600000 lines...\n",
      "Read 13700000 lines...\n",
      "Read 13800000 lines...\n",
      "Read 13900000 lines...\n",
      "Read 14000000 lines...\n",
      "Read 14100000 lines...\n",
      "Read 14200000 lines...\n",
      "Read 14300000 lines...\n",
      "Read 14400000 lines...\n",
      "Read 14500000 lines...\n",
      "Read 14600000 lines...\n",
      "Read 14700000 lines...\n",
      "Read 14800000 lines...\n",
      "Read 14900000 lines...\n",
      "Read 15000000 lines...\n",
      "Read 15100000 lines...\n",
      "Read 15200000 lines...\n",
      "Read 15300000 lines...\n",
      "Read 15400000 lines...\n",
      "Read 15500000 lines...\n",
      "Read 15600000 lines...\n",
      "Read 15700000 lines...\n",
      "Read 15800000 lines...\n",
      "Read 15900000 lines...\n",
      "Read 16000000 lines...\n",
      "Read 16100000 lines...\n",
      "Read 16200000 lines...\n",
      "Read 16300000 lines...\n",
      "Read 16400000 lines...\n",
      "Read 16500000 lines...\n",
      "Read 16600000 lines...\n",
      "Read 16700000 lines...\n",
      "Read 16800000 lines...\n",
      "Read 16900000 lines...\n",
      "Read 17000000 lines...\n",
      "Read 17100000 lines...\n",
      "Read 17200000 lines...\n",
      "Read 17300000 lines...\n",
      "Read 17400000 lines...\n",
      "Read 17500000 lines...\n",
      "Read 17600000 lines...\n",
      "Read 17700000 lines...\n",
      "Read 17800000 lines...\n",
      "Read 17900000 lines...\n",
      "Read 18000000 lines...\n",
      "Read 18100000 lines...\n",
      "Read 18200000 lines...\n",
      "Read 18300000 lines...\n",
      "Read 18400000 lines...\n",
      "Read 18500000 lines...\n",
      "Read 18600000 lines...\n",
      "Read 18700000 lines...\n",
      "Read 18800000 lines...\n",
      "Read 18900000 lines...\n",
      "Read 19000000 lines...\n",
      "Read 19100000 lines...\n",
      "Read 19200000 lines...\n",
      "Read 19300000 lines...\n"
     ]
    },
    {
     "ename": "KeyboardInterrupt",
     "evalue": "",
     "output_type": "error",
     "traceback": [
      "\u001b[1;31m---------------------------------------------------------------------------\u001b[0m",
      "\u001b[1;31mKeyboardInterrupt\u001b[0m                         Traceback (most recent call last)",
      "\u001b[1;32m<ipython-input-44-fa9c941dcdd3>\u001b[0m in \u001b[0;36m<module>\u001b[1;34m()\u001b[0m\n\u001b[0;32m     34\u001b[0m         \u001b[0mcount\u001b[0m \u001b[1;33m=\u001b[0m \u001b[0mtrie\u001b[0m\u001b[1;33m.\u001b[0m\u001b[0mvalues\u001b[0m\u001b[1;33m(\u001b[0m\u001b[0mh\u001b[0m\u001b[1;33m)\u001b[0m\u001b[1;33m[\u001b[0m\u001b[1;36m0\u001b[0m\u001b[1;33m]\u001b[0m\u001b[1;33m[\u001b[0m\u001b[1;36m1\u001b[0m\u001b[1;33m]\u001b[0m\u001b[1;33m\u001b[0m\u001b[0m\n\u001b[0;32m     35\u001b[0m         \u001b[0mtrie\u001b[0m\u001b[1;33m[\u001b[0m\u001b[0mh\u001b[0m\u001b[1;33m]\u001b[0m\u001b[1;33m=\u001b[0m \u001b[1;33m[\u001b[0m\u001b[0mint\u001b[0m\u001b[1;33m(\u001b[0m\u001b[0mhotel_cluster\u001b[0m\u001b[1;33m)\u001b[0m\u001b[1;33m,\u001b[0m \u001b[0mcount\u001b[0m\u001b[1;33m+\u001b[0m\u001b[1;36m1\u001b[0m\u001b[1;33m]\u001b[0m\u001b[1;33m\u001b[0m\u001b[0m\n\u001b[1;32m---> 36\u001b[1;33m     \u001b[1;32melse\u001b[0m\u001b[1;33m:\u001b[0m  \u001b[0mtrie\u001b[0m\u001b[1;33m[\u001b[0m\u001b[0mh\u001b[0m\u001b[1;33m]\u001b[0m \u001b[1;33m=\u001b[0m \u001b[1;33m[\u001b[0m\u001b[0mint\u001b[0m\u001b[1;33m(\u001b[0m\u001b[0mhotel_cluster\u001b[0m\u001b[1;33m)\u001b[0m\u001b[1;33m,\u001b[0m \u001b[1;36m1\u001b[0m\u001b[1;33m]\u001b[0m\u001b[1;33m\u001b[0m\u001b[0m\n\u001b[0m\u001b[0;32m     37\u001b[0m     \u001b[1;31m#print(trie[h])\u001b[0m\u001b[1;33m\u001b[0m\u001b[1;33m\u001b[0m\u001b[0m\n\u001b[0;32m     38\u001b[0m \u001b[1;33m\u001b[0m\u001b[0m\n",
      "\u001b[1;31mKeyboardInterrupt\u001b[0m: "
     ]
    }
   ],
   "source": [
    "fin = open(\"./input/train.csv\", \"r\")\n",
    "fout = open(\"t.h\", \"w\")\n",
    "f.readline()\n",
    "#trie = datrie.Trie(ALPHABET)\n",
    "total = 0\n",
    "\n",
    "# Calc counts\n",
    "#j=200000\n",
    "while 1:\n",
    "    #j=j-1\n",
    "    line = f.readline().strip()\n",
    "    total += 1\n",
    "\n",
    "    if total % 100000 == 0:\n",
    "        print('Read {} lines...'.format(total))\n",
    "\n",
    "    if line == '':\n",
    "        break\n",
    "\n",
    "    arr = line.split(\",\")\n",
    "\n",
    "    site_name = arr[1]\n",
    "    user_location_city = arr[5]\n",
    "    #orig_destination_distance = arr[6]\n",
    "    #user_id = arr[7]\n",
    "    is_package = arr[9]\n",
    "    srch_destination_id = arr[16]\n",
    "    hotel_country = arr[21]\n",
    "    hotel_market = arr[22]\n",
    "    is_booking = arr[18]\n",
    "    hotel_cluster = arr[23]\n",
    "    h = ''.join([is_package, site_name, srch_destination_id, user_location_city,\\\n",
    "                 hotel_country, hotel_market, hotel_cluster])\n",
    "    #print(h)\n",
    "    if h in f: \n",
    "        count = trie.values(h)[0][1]\n",
    "        trie[h]= [int(hotel_cluster), count+1]\n",
    "    else:  trie[h] = [int(hotel_cluster), 1]\n",
    "    #print(trie[h])\n",
    "\n",
    "    \n",
    "f.close()\n"
   ]
  },
  {
   "cell_type": "code",
   "execution_count": 45,
   "metadata": {
    "collapsed": false,
    "scrolled": true
   },
   "outputs": [
    {
     "name": "stdout",
     "output_type": "stream",
     "text": [
      "Write 100000 lines...\n"
     ]
    }
   ],
   "source": [
    "now = datetime.datetime.now()\n",
    "path = 'submission_' + str(now.strftime(\"%Y-%m-%d-%H-%M\")) + '.csv'\n",
    "out = open(path, \"w\")\n",
    "f = open(\"./input/test.csv\", \"r\")\n",
    "f.readline()\n",
    "out.write(\"id,hotel_cluster\\n\")\n",
    "total = 0\n",
    "\n",
    "while 1:\n",
    "    line = f.readline().strip()\n",
    "    total += 1\n",
    "\n",
    "    if total % 100000 == 0:\n",
    "        print('Write {} lines...'.format(total))\n",
    "        break\n",
    "\n",
    "    if line == '':\n",
    "        break\n",
    "\n",
    "    arr = line.split(\",\")\n",
    "    id = arr[0]\n",
    "    site_name = arr[2]\n",
    "    user_location_city = arr[6]\n",
    "    orig_destination_distance = arr[7]\n",
    "    user_id = arr[8]\n",
    "    is_package = arr[10]\n",
    "    srch_destination_id = arr[17]\n",
    "    hotel_country = arr[20]\n",
    "    hotel_market = arr[21]\n",
    "\n",
    "    h = ''.join([is_package, site_name, srch_destination_id, user_location_city,\\\n",
    "             hotel_country, hotel_market, ])\n",
    "    \n",
    "    hc = trie.values(h)\n",
    "    while not hc and h:\n",
    "        h = h[:-1]\n",
    "        if h: hc = trie.values(h)\n",
    "\n",
    "    hotel_clusters = list(reversed([item[0] for item in sorted(hc, key=lambda x: x[1])[-5:]]))\n",
    "\n",
    "    out.write(str(id) + ',')\n",
    "    out.write(' '.join(str(x) for x in hotel_clusters))\n",
    "    out.write(\"\\n\")\n",
    "out.close()\n",
    "f.close()"
   ]
  },
  {
   "cell_type": "code",
   "execution_count": 42,
   "metadata": {
    "collapsed": false
   },
   "outputs": [
    {
     "data": {
      "text/plain": [
       "[18]"
      ]
     },
     "execution_count": 42,
     "metadata": {},
     "output_type": "execute_result"
    }
   ],
   "source": [
    "\n",
    "    \n",
    "hotel_clusters = list(reversed([item[0] for item in sorted(hc, key=lambda x: x[1])[-5:]]))\n",
    "hotel_clusters"
   ]
  },
  {
   "cell_type": "code",
   "execution_count": 41,
   "metadata": {
    "collapsed": false
   },
   "outputs": [
    {
     "data": {
      "text/plain": [
       "[18]"
      ]
     },
     "execution_count": 41,
     "metadata": {},
     "output_type": "execute_result"
    }
   ],
   "source": [
    "hotel_clusters"
   ]
  },
  {
   "cell_type": "code",
   "execution_count": 69,
   "metadata": {
    "collapsed": false,
    "scrolled": true
   },
   "outputs": [
    {
     "data": {
      "text/plain": [
       "['__class__',\n",
       " '__contains__',\n",
       " '__delattr__',\n",
       " '__delitem__',\n",
       " '__dir__',\n",
       " '__doc__',\n",
       " '__eq__',\n",
       " '__format__',\n",
       " '__ge__',\n",
       " '__getattribute__',\n",
       " '__getitem__',\n",
       " '__gt__',\n",
       " '__hash__',\n",
       " '__init__',\n",
       " '__iter__',\n",
       " '__le__',\n",
       " '__len__',\n",
       " '__lt__',\n",
       " '__ne__',\n",
       " '__new__',\n",
       " '__pyx_vtable__',\n",
       " '__reduce__',\n",
       " '__reduce_ex__',\n",
       " '__repr__',\n",
       " '__setattr__',\n",
       " '__setitem__',\n",
       " '__setstate__',\n",
       " '__sizeof__',\n",
       " '__str__',\n",
       " '__subclasshook__',\n",
       " '_delitem',\n",
       " 'clear',\n",
       " 'get',\n",
       " 'has_keys_with_prefix',\n",
       " 'is_dirty',\n",
       " 'items',\n",
       " 'iter_prefix_items',\n",
       " 'iter_prefix_values',\n",
       " 'iter_prefixes',\n",
       " 'keys',\n",
       " 'load',\n",
       " 'longest_prefix',\n",
       " 'longest_prefix_item',\n",
       " 'longest_prefix_value',\n",
       " 'pop',\n",
       " 'prefix_items',\n",
       " 'prefix_values',\n",
       " 'prefixes',\n",
       " 'read',\n",
       " 'save',\n",
       " 'setdefault',\n",
       " 'suffixes',\n",
       " 'update',\n",
       " 'values',\n",
       " 'write']"
      ]
     },
     "execution_count": 69,
     "metadata": {},
     "output_type": "execute_result"
    }
   ],
   "source": [
    "dir(trie)"
   ]
  },
  {
   "cell_type": "code",
   "execution_count": 46,
   "metadata": {
    "collapsed": true
   },
   "outputs": [],
   "source": [
    "trie.save('EHR.trie')"
   ]
  },
  {
   "cell_type": "code",
   "execution_count": null,
   "metadata": {
    "collapsed": true
   },
   "outputs": [],
   "source": []
  }
 ],
 "metadata": {
  "kernelspec": {
   "display_name": "Python 3",
   "language": "python",
   "name": "python3"
  },
  "language_info": {
   "codemirror_mode": {
    "name": "ipython",
    "version": 3
   },
   "file_extension": ".py",
   "mimetype": "text/x-python",
   "name": "python",
   "nbconvert_exporter": "python",
   "pygments_lexer": "ipython3",
   "version": "3.5.1"
  }
 },
 "nbformat": 4,
 "nbformat_minor": 0
}
