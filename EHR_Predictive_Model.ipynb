{
 "cells": [
  {
   "cell_type": "code",
   "execution_count": 4,
   "metadata": {
    "collapsed": false
   },
   "outputs": [
    {
     "data": {
      "text/html": [
       "<div>\n",
       "<table border=\"1\" class=\"dataframe\">\n",
       "  <thead>\n",
       "    <tr style=\"text-align: right;\">\n",
       "      <th></th>\n",
       "      <th>site_name</th>\n",
       "      <th>posa_continent</th>\n",
       "      <th>user_location_country</th>\n",
       "      <th>user_location_region</th>\n",
       "      <th>user_location_city</th>\n",
       "      <th>orig_destination_distance</th>\n",
       "      <th>is_package</th>\n",
       "      <th>channel</th>\n",
       "      <th>srch_ci</th>\n",
       "      <th>srch_co</th>\n",
       "      <th>srch_adults_cnt</th>\n",
       "      <th>srch_children_cnt</th>\n",
       "      <th>srch_rm_cnt</th>\n",
       "      <th>srch_destination_id</th>\n",
       "      <th>srch_destination_type_id</th>\n",
       "      <th>hotel_continent</th>\n",
       "      <th>hotel_country</th>\n",
       "      <th>hotel_market</th>\n",
       "      <th>hotel_cluster</th>\n",
       "    </tr>\n",
       "  </thead>\n",
       "  <tbody>\n",
       "    <tr>\n",
       "      <th>0</th>\n",
       "      <td>2</td>\n",
       "      <td>3</td>\n",
       "      <td>66</td>\n",
       "      <td>348</td>\n",
       "      <td>48862</td>\n",
       "      <td>2234.2641</td>\n",
       "      <td>1</td>\n",
       "      <td>9</td>\n",
       "      <td>18</td>\n",
       "      <td>22</td>\n",
       "      <td>2</td>\n",
       "      <td>0</td>\n",
       "      <td>1</td>\n",
       "      <td>8250</td>\n",
       "      <td>1</td>\n",
       "      <td>2</td>\n",
       "      <td>50</td>\n",
       "      <td>628</td>\n",
       "      <td>1</td>\n",
       "    </tr>\n",
       "    <tr>\n",
       "      <th>1</th>\n",
       "      <td>2</td>\n",
       "      <td>3</td>\n",
       "      <td>66</td>\n",
       "      <td>318</td>\n",
       "      <td>52078</td>\n",
       "      <td>0.0000</td>\n",
       "      <td>1</td>\n",
       "      <td>4</td>\n",
       "      <td>50</td>\n",
       "      <td>52</td>\n",
       "      <td>2</td>\n",
       "      <td>0</td>\n",
       "      <td>1</td>\n",
       "      <td>8291</td>\n",
       "      <td>1</td>\n",
       "      <td>2</td>\n",
       "      <td>50</td>\n",
       "      <td>191</td>\n",
       "      <td>2</td>\n",
       "    </tr>\n",
       "    <tr>\n",
       "      <th>2</th>\n",
       "      <td>30</td>\n",
       "      <td>4</td>\n",
       "      <td>195</td>\n",
       "      <td>548</td>\n",
       "      <td>56440</td>\n",
       "      <td>0.0000</td>\n",
       "      <td>1</td>\n",
       "      <td>9</td>\n",
       "      <td>83</td>\n",
       "      <td>91</td>\n",
       "      <td>2</td>\n",
       "      <td>0</td>\n",
       "      <td>1</td>\n",
       "      <td>1385</td>\n",
       "      <td>1</td>\n",
       "      <td>0</td>\n",
       "      <td>185</td>\n",
       "      <td>185</td>\n",
       "      <td>58</td>\n",
       "    </tr>\n",
       "    <tr>\n",
       "      <th>3</th>\n",
       "      <td>30</td>\n",
       "      <td>4</td>\n",
       "      <td>195</td>\n",
       "      <td>991</td>\n",
       "      <td>47725</td>\n",
       "      <td>0.0000</td>\n",
       "      <td>0</td>\n",
       "      <td>9</td>\n",
       "      <td>215</td>\n",
       "      <td>217</td>\n",
       "      <td>2</td>\n",
       "      <td>0</td>\n",
       "      <td>1</td>\n",
       "      <td>8803</td>\n",
       "      <td>1</td>\n",
       "      <td>3</td>\n",
       "      <td>151</td>\n",
       "      <td>69</td>\n",
       "      <td>36</td>\n",
       "    </tr>\n",
       "    <tr>\n",
       "      <th>4</th>\n",
       "      <td>2</td>\n",
       "      <td>3</td>\n",
       "      <td>66</td>\n",
       "      <td>462</td>\n",
       "      <td>41898</td>\n",
       "      <td>2454.8588</td>\n",
       "      <td>1</td>\n",
       "      <td>1</td>\n",
       "      <td>50</td>\n",
       "      <td>55</td>\n",
       "      <td>3</td>\n",
       "      <td>0</td>\n",
       "      <td>2</td>\n",
       "      <td>12009</td>\n",
       "      <td>1</td>\n",
       "      <td>2</td>\n",
       "      <td>50</td>\n",
       "      <td>680</td>\n",
       "      <td>95</td>\n",
       "    </tr>\n",
       "  </tbody>\n",
       "</table>\n",
       "</div>"
      ],
      "text/plain": [
       "   site_name  posa_continent  user_location_country  user_location_region  \\\n",
       "0          2               3                     66                   348   \n",
       "1          2               3                     66                   318   \n",
       "2         30               4                    195                   548   \n",
       "3         30               4                    195                   991   \n",
       "4          2               3                     66                   462   \n",
       "\n",
       "   user_location_city  orig_destination_distance  is_package  channel  \\\n",
       "0               48862                  2234.2641           1        9   \n",
       "1               52078                     0.0000           1        4   \n",
       "2               56440                     0.0000           1        9   \n",
       "3               47725                     0.0000           0        9   \n",
       "4               41898                  2454.8588           1        1   \n",
       "\n",
       "   srch_ci  srch_co  srch_adults_cnt  srch_children_cnt  srch_rm_cnt  \\\n",
       "0       18       22                2                  0            1   \n",
       "1       50       52                2                  0            1   \n",
       "2       83       91                2                  0            1   \n",
       "3      215      217                2                  0            1   \n",
       "4       50       55                3                  0            2   \n",
       "\n",
       "   srch_destination_id  srch_destination_type_id  hotel_continent  \\\n",
       "0                 8250                         1                2   \n",
       "1                 8291                         1                2   \n",
       "2                 1385                         1                0   \n",
       "3                 8803                         1                3   \n",
       "4                12009                         1                2   \n",
       "\n",
       "   hotel_country  hotel_market  hotel_cluster  \n",
       "0             50           628              1  \n",
       "1             50           191              2  \n",
       "2            185           185             58  \n",
       "3            151            69             36  \n",
       "4             50           680             95  "
      ]
     },
     "execution_count": 4,
     "metadata": {},
     "output_type": "execute_result"
    }
   ],
   "source": [
    "import pandas as pd\n",
    "import numpy as np\n",
    "from sklearn.preprocessing import OneHotEncoder\n",
    "from sqlalchemy import create_engine # database connection\n",
    "\n",
    "disk_engine_ib = create_engine('sqlite:///ehr_ib.db')\n",
    "\n",
    "#train = pd.read_csv('./input/train.csv', iterator=True, chunksize=100000)\n",
    "#test = pd.read_csv('./input/test.csv', iterator=True, chunksize=100000)\n",
    "#destinations = pd.read_csv('./input/destinations.csv', iterator=True, chunksize=15)\n",
    "\n",
    "#chunk = train.get_chunk()\n",
    "#test_chunk = test.get_chunk()\n",
    "train = pd.read_sql_query('SELECT * FROM train_ib1_cnt0 LIMIT 600000', disk_engine_ib)\n",
    "train = train.drop(['level_0', 'index', 'user_id', 'is_mobile'], axis=1)\n",
    "train = train.fillna(0)\n",
    "\n",
    "train.head()"
   ]
  },
  {
   "cell_type": "code",
   "execution_count": 6,
   "metadata": {
    "collapsed": false
   },
   "outputs": [
    {
     "data": {
      "text/html": [
       "<div>\n",
       "<table border=\"1\" class=\"dataframe\">\n",
       "  <thead>\n",
       "    <tr style=\"text-align: right;\">\n",
       "      <th></th>\n",
       "      <th>site_name</th>\n",
       "      <th>posa_continent</th>\n",
       "      <th>user_location_country</th>\n",
       "      <th>user_location_region</th>\n",
       "      <th>user_location_city</th>\n",
       "      <th>orig_destination_distance</th>\n",
       "      <th>is_package</th>\n",
       "      <th>channel</th>\n",
       "      <th>srch_ci</th>\n",
       "      <th>srch_co</th>\n",
       "      <th>srch_adults_cnt</th>\n",
       "      <th>srch_children_cnt</th>\n",
       "      <th>srch_rm_cnt</th>\n",
       "      <th>srch_destination_id</th>\n",
       "      <th>srch_destination_type_id</th>\n",
       "      <th>hotel_continent</th>\n",
       "      <th>hotel_country</th>\n",
       "      <th>hotel_market</th>\n",
       "      <th>hotel_cluster</th>\n",
       "    </tr>\n",
       "  </thead>\n",
       "  <tbody>\n",
       "    <tr>\n",
       "      <th>209612</th>\n",
       "      <td>11</td>\n",
       "      <td>3</td>\n",
       "      <td>205</td>\n",
       "      <td>135</td>\n",
       "      <td>36086</td>\n",
       "      <td>442.1929</td>\n",
       "      <td>1</td>\n",
       "      <td>9</td>\n",
       "      <td>23</td>\n",
       "      <td>27</td>\n",
       "      <td>2</td>\n",
       "      <td>0</td>\n",
       "      <td>1</td>\n",
       "      <td>12270</td>\n",
       "      <td>6</td>\n",
       "      <td>2</td>\n",
       "      <td>50</td>\n",
       "      <td>663</td>\n",
       "      <td>70</td>\n",
       "    </tr>\n",
       "    <tr>\n",
       "      <th>131669</th>\n",
       "      <td>2</td>\n",
       "      <td>3</td>\n",
       "      <td>202</td>\n",
       "      <td>269</td>\n",
       "      <td>25293</td>\n",
       "      <td>0.0000</td>\n",
       "      <td>0</td>\n",
       "      <td>9</td>\n",
       "      <td>2</td>\n",
       "      <td>4</td>\n",
       "      <td>2</td>\n",
       "      <td>0</td>\n",
       "      <td>1</td>\n",
       "      <td>1549</td>\n",
       "      <td>3</td>\n",
       "      <td>3</td>\n",
       "      <td>5</td>\n",
       "      <td>50</td>\n",
       "      <td>36</td>\n",
       "    </tr>\n",
       "    <tr>\n",
       "      <th>370616</th>\n",
       "      <td>11</td>\n",
       "      <td>3</td>\n",
       "      <td>66</td>\n",
       "      <td>346</td>\n",
       "      <td>28279</td>\n",
       "      <td>231.8497</td>\n",
       "      <td>0</td>\n",
       "      <td>9</td>\n",
       "      <td>0</td>\n",
       "      <td>1</td>\n",
       "      <td>2</td>\n",
       "      <td>0</td>\n",
       "      <td>1</td>\n",
       "      <td>23297</td>\n",
       "      <td>6</td>\n",
       "      <td>2</td>\n",
       "      <td>50</td>\n",
       "      <td>631</td>\n",
       "      <td>3</td>\n",
       "    </tr>\n",
       "    <tr>\n",
       "      <th>491399</th>\n",
       "      <td>2</td>\n",
       "      <td>3</td>\n",
       "      <td>66</td>\n",
       "      <td>174</td>\n",
       "      <td>33085</td>\n",
       "      <td>0.0000</td>\n",
       "      <td>0</td>\n",
       "      <td>9</td>\n",
       "      <td>1</td>\n",
       "      <td>2</td>\n",
       "      <td>1</td>\n",
       "      <td>0</td>\n",
       "      <td>1</td>\n",
       "      <td>12271</td>\n",
       "      <td>6</td>\n",
       "      <td>2</td>\n",
       "      <td>50</td>\n",
       "      <td>663</td>\n",
       "      <td>72</td>\n",
       "    </tr>\n",
       "    <tr>\n",
       "      <th>328763</th>\n",
       "      <td>2</td>\n",
       "      <td>3</td>\n",
       "      <td>66</td>\n",
       "      <td>174</td>\n",
       "      <td>41886</td>\n",
       "      <td>194.8685</td>\n",
       "      <td>0</td>\n",
       "      <td>5</td>\n",
       "      <td>23</td>\n",
       "      <td>28</td>\n",
       "      <td>2</td>\n",
       "      <td>0</td>\n",
       "      <td>1</td>\n",
       "      <td>8250</td>\n",
       "      <td>1</td>\n",
       "      <td>2</td>\n",
       "      <td>50</td>\n",
       "      <td>628</td>\n",
       "      <td>47</td>\n",
       "    </tr>\n",
       "  </tbody>\n",
       "</table>\n",
       "</div>"
      ],
      "text/plain": [
       "        site_name  posa_continent  user_location_country  \\\n",
       "209612         11               3                    205   \n",
       "131669          2               3                    202   \n",
       "370616         11               3                     66   \n",
       "491399          2               3                     66   \n",
       "328763          2               3                     66   \n",
       "\n",
       "        user_location_region  user_location_city  orig_destination_distance  \\\n",
       "209612                   135               36086                   442.1929   \n",
       "131669                   269               25293                     0.0000   \n",
       "370616                   346               28279                   231.8497   \n",
       "491399                   174               33085                     0.0000   \n",
       "328763                   174               41886                   194.8685   \n",
       "\n",
       "        is_package  channel  srch_ci  srch_co  srch_adults_cnt  \\\n",
       "209612           1        9       23       27                2   \n",
       "131669           0        9        2        4                2   \n",
       "370616           0        9        0        1                2   \n",
       "491399           0        9        1        2                1   \n",
       "328763           0        5       23       28                2   \n",
       "\n",
       "        srch_children_cnt  srch_rm_cnt  srch_destination_id  \\\n",
       "209612                  0            1                12270   \n",
       "131669                  0            1                 1549   \n",
       "370616                  0            1                23297   \n",
       "491399                  0            1                12271   \n",
       "328763                  0            1                 8250   \n",
       "\n",
       "        srch_destination_type_id  hotel_continent  hotel_country  \\\n",
       "209612                         6                2             50   \n",
       "131669                         3                3              5   \n",
       "370616                         6                2             50   \n",
       "491399                         6                2             50   \n",
       "328763                         1                2             50   \n",
       "\n",
       "        hotel_market  hotel_cluster  \n",
       "209612           663             70  \n",
       "131669            50             36  \n",
       "370616           631              3  \n",
       "491399           663             72  \n",
       "328763           628             47  "
      ]
     },
     "execution_count": 6,
     "metadata": {},
     "output_type": "execute_result"
    }
   ],
   "source": [
    "xx = train.sample(1000)\n",
    "xx.head()"
   ]
  },
  {
   "cell_type": "code",
   "execution_count": 2,
   "metadata": {
    "collapsed": false
   },
   "outputs": [],
   "source": [
    "\n",
    "X = train.drop(['hotel_cluster'], axis=1)\n",
    "Y = train['hotel_cluster']\n",
    "\n",
    "X = X.as_matrix()\n",
    "Y = Y.as_matrix()"
   ]
  },
  {
   "cell_type": "code",
   "execution_count": null,
   "metadata": {
    "collapsed": true
   },
   "outputs": [],
   "source": []
  },
  {
   "cell_type": "code",
   "execution_count": 3,
   "metadata": {
    "collapsed": false
   },
   "outputs": [
    {
     "name": "stdout",
     "output_type": "stream",
     "text": [
      "      Iter       Train Loss      OOB Improve   Remaining Time \n",
      "         1 722252613445140864526260254979761312223770058907304812802671702467767465372128207849046257713751216010199674612105466430810728010494200598933578983872024637733896978432.0000 -188078000141117227762863547404979777111399793785874172129794665307351612497709179232461980749766682468648600660488242485163460334088475785953343523776504587550489313280.0000          407.87m\n",
      "         2 729836403773411759131568058987637091133985503460002633010840482577312706227185536791805837070141391505769498551025847731810105949352154924932210441897008129755806957568.0000           0.0000          410.18m\n",
      "         3 724734581188938661369106186647612218975728345498414911129821163373253268744663665611827912933828540042944649994884113939096364320120059826874175573346510514565339414528.0000           0.0000          413.13m\n",
      "         4 726113452157715063867299161485860731006048073573337485520116291219084001168382350147633354240025405456652035476857876469381651484913366083021315557685279314508643303424.0000           0.0000          423.98m\n",
      "         5 723907258607672694171991058532815303251052150473653921376589518612066913132043919998806866210607513277148673390980221826876521522937349319243240220744155986783897649152.0000           0.0000          425.20m\n",
      "         6 735765548939150928839644512118998719438989154929524215577636919920631762787650932661086292879261025999033278140004502465117582457689232825573390131382437979240599126016.0000           0.0000          420.42m\n",
      "         7 721701065057630429225182408256309715918126525857143228165608219383123088561029268926261863130775377362288265734035596012745283642883604850417374352135610365572034854912.0000           0.0000          414.10m\n",
      "         8 725837677963959741468260785447595092431156008565083822269039076298688549297509101609959671998951729868053376608889912431975037219185795913811003773484494471914829381632.0000           0.0000          408.67m\n",
      "         9 723769371510794980598222144175412563752570968727940654284778174462832555463945406191829282615277797350527866742529725393986268349112428087161979594477474712230549258240.0000           0.0000          403.54m\n",
      "        10 725699790867082237391490776443272033776815423785716297042318678905600718560058145955545058302793526470718478818305473655832568209205419271634162083882968610387246710784.0000           0.0000          398.47m\n"
     ]
    },
    {
     "ename": "KeyboardInterrupt",
     "evalue": "",
     "output_type": "error",
     "traceback": [
      "\u001b[1;31m---------------------------------------------------------------------------\u001b[0m",
      "\u001b[1;31mKeyboardInterrupt\u001b[0m                         Traceback (most recent call last)",
      "\u001b[1;32m<ipython-input-3-b918c5b4414d>\u001b[0m in \u001b[0;36m<module>\u001b[1;34m()\u001b[0m\n\u001b[0;32m      8\u001b[0m \u001b[0mclf\u001b[0m \u001b[1;33m=\u001b[0m \u001b[0mGradientBoostingClassifier\u001b[0m\u001b[1;33m(\u001b[0m\u001b[0mn_estimators\u001b[0m\u001b[1;33m=\u001b[0m\u001b[1;36m100\u001b[0m\u001b[1;33m,\u001b[0m \u001b[0mlearning_rate\u001b[0m\u001b[1;33m=\u001b[0m\u001b[1;36m0.3\u001b[0m\u001b[1;33m,\u001b[0m                                 \u001b[0mmax_depth\u001b[0m\u001b[1;33m=\u001b[0m\u001b[1;36m1\u001b[0m\u001b[1;33m,\u001b[0m \u001b[0mverbose\u001b[0m\u001b[1;33m=\u001b[0m\u001b[1;36m1\u001b[0m\u001b[1;33m,\u001b[0m                                 \u001b[0mmax_leaf_nodes\u001b[0m\u001b[1;33m=\u001b[0m \u001b[1;36m5\u001b[0m\u001b[1;33m,\u001b[0m \u001b[0msubsample\u001b[0m\u001b[1;33m=\u001b[0m \u001b[1;36m0.8\u001b[0m\u001b[1;33m)\u001b[0m\u001b[1;33m\u001b[0m\u001b[0m\n\u001b[0;32m      9\u001b[0m \u001b[1;33m\u001b[0m\u001b[0m\n\u001b[1;32m---> 10\u001b[1;33m \u001b[0mclf\u001b[0m\u001b[1;33m.\u001b[0m\u001b[0mfit\u001b[0m\u001b[1;33m(\u001b[0m\u001b[0mX_train\u001b[0m\u001b[1;33m,\u001b[0m \u001b[0my_train\u001b[0m\u001b[1;33m)\u001b[0m\u001b[1;33m\u001b[0m\u001b[0m\n\u001b[0m\u001b[0;32m     11\u001b[0m \u001b[0mclf\u001b[0m\u001b[1;33m.\u001b[0m\u001b[0mscore\u001b[0m\u001b[1;33m(\u001b[0m\u001b[0mX_test\u001b[0m\u001b[1;33m,\u001b[0m \u001b[0my_test\u001b[0m\u001b[1;33m)\u001b[0m\u001b[1;33m\u001b[0m\u001b[0m\n",
      "\u001b[1;32mC:\\Users\\Dariyush\\Anaconda3\\lib\\site-packages\\sklearn\\ensemble\\gradient_boosting.py\u001b[0m in \u001b[0;36mfit\u001b[1;34m(self, X, y, sample_weight, monitor)\u001b[0m\n\u001b[0;32m   1023\u001b[0m         \u001b[1;31m# fit the boosting stages\u001b[0m\u001b[1;33m\u001b[0m\u001b[1;33m\u001b[0m\u001b[0m\n\u001b[0;32m   1024\u001b[0m         n_stages = self._fit_stages(X, y, y_pred, sample_weight, random_state,\n\u001b[1;32m-> 1025\u001b[1;33m                                     begin_at_stage, monitor, X_idx_sorted)\n\u001b[0m\u001b[0;32m   1026\u001b[0m         \u001b[1;31m# change shape of arrays after fit (early-stopping or additional ests)\u001b[0m\u001b[1;33m\u001b[0m\u001b[1;33m\u001b[0m\u001b[0m\n\u001b[0;32m   1027\u001b[0m         \u001b[1;32mif\u001b[0m \u001b[0mn_stages\u001b[0m \u001b[1;33m!=\u001b[0m \u001b[0mself\u001b[0m\u001b[1;33m.\u001b[0m\u001b[0mestimators_\u001b[0m\u001b[1;33m.\u001b[0m\u001b[0mshape\u001b[0m\u001b[1;33m[\u001b[0m\u001b[1;36m0\u001b[0m\u001b[1;33m]\u001b[0m\u001b[1;33m:\u001b[0m\u001b[1;33m\u001b[0m\u001b[0m\n",
      "\u001b[1;32mC:\\Users\\Dariyush\\Anaconda3\\lib\\site-packages\\sklearn\\ensemble\\gradient_boosting.py\u001b[0m in \u001b[0;36m_fit_stages\u001b[1;34m(self, X, y, y_pred, sample_weight, random_state, begin_at_stage, monitor, X_idx_sorted)\u001b[0m\n\u001b[0;32m   1078\u001b[0m             y_pred = self._fit_stage(i, X, y, y_pred, sample_weight,\n\u001b[0;32m   1079\u001b[0m                                      \u001b[0msample_mask\u001b[0m\u001b[1;33m,\u001b[0m \u001b[0mrandom_state\u001b[0m\u001b[1;33m,\u001b[0m \u001b[0mX_idx_sorted\u001b[0m\u001b[1;33m,\u001b[0m\u001b[1;33m\u001b[0m\u001b[0m\n\u001b[1;32m-> 1080\u001b[1;33m                                      X_csc, X_csr)\n\u001b[0m\u001b[0;32m   1081\u001b[0m \u001b[1;33m\u001b[0m\u001b[0m\n\u001b[0;32m   1082\u001b[0m             \u001b[1;31m# track deviance (= loss)\u001b[0m\u001b[1;33m\u001b[0m\u001b[1;33m\u001b[0m\u001b[0m\n",
      "\u001b[1;32mC:\\Users\\Dariyush\\Anaconda3\\lib\\site-packages\\sklearn\\ensemble\\gradient_boosting.py\u001b[0m in \u001b[0;36m_fit_stage\u001b[1;34m(self, i, X, y, y_pred, sample_weight, sample_mask, random_state, X_idx_sorted, X_csc, X_csr)\u001b[0m\n\u001b[0;32m    758\u001b[0m \u001b[1;33m\u001b[0m\u001b[0m\n\u001b[0;32m    759\u001b[0m             residual = loss.negative_gradient(y, y_pred, k=k,\n\u001b[1;32m--> 760\u001b[1;33m                                               sample_weight=sample_weight)\n\u001b[0m\u001b[0;32m    761\u001b[0m \u001b[1;33m\u001b[0m\u001b[0m\n\u001b[0;32m    762\u001b[0m             \u001b[1;31m# induce regression tree on residuals\u001b[0m\u001b[1;33m\u001b[0m\u001b[1;33m\u001b[0m\u001b[0m\n",
      "\u001b[1;32mC:\\Users\\Dariyush\\Anaconda3\\lib\\site-packages\\sklearn\\ensemble\\gradient_boosting.py\u001b[0m in \u001b[0;36mnegative_gradient\u001b[1;34m(self, y, pred, k, **kwargs)\u001b[0m\n\u001b[0;32m    561\u001b[0m         \u001b[1;34m\"\"\"Compute negative gradient for the ``k``-th class. \"\"\"\u001b[0m\u001b[1;33m\u001b[0m\u001b[0m\n\u001b[0;32m    562\u001b[0m         return y - np.nan_to_num(np.exp(pred[:, k] -\n\u001b[1;32m--> 563\u001b[1;33m                                         logsumexp(pred, axis=1)))\n\u001b[0m\u001b[0;32m    564\u001b[0m \u001b[1;33m\u001b[0m\u001b[0m\n\u001b[0;32m    565\u001b[0m     def _update_terminal_region(self, tree, terminal_regions, leaf, X, y,\n",
      "\u001b[1;32mC:\\Users\\Dariyush\\Anaconda3\\lib\\site-packages\\sklearn\\utils\\extmath.py\u001b[0m in \u001b[0;36mlogsumexp\u001b[1;34m(arr, axis)\u001b[0m\n\u001b[0;32m    341\u001b[0m     \u001b[1;31m# the less errors\u001b[0m\u001b[1;33m\u001b[0m\u001b[1;33m\u001b[0m\u001b[0m\n\u001b[0;32m    342\u001b[0m     \u001b[0mvmax\u001b[0m \u001b[1;33m=\u001b[0m \u001b[0marr\u001b[0m\u001b[1;33m.\u001b[0m\u001b[0mmax\u001b[0m\u001b[1;33m(\u001b[0m\u001b[0maxis\u001b[0m\u001b[1;33m=\u001b[0m\u001b[1;36m0\u001b[0m\u001b[1;33m)\u001b[0m\u001b[1;33m\u001b[0m\u001b[0m\n\u001b[1;32m--> 343\u001b[1;33m     \u001b[0mout\u001b[0m \u001b[1;33m=\u001b[0m \u001b[0mnp\u001b[0m\u001b[1;33m.\u001b[0m\u001b[0mlog\u001b[0m\u001b[1;33m(\u001b[0m\u001b[0mnp\u001b[0m\u001b[1;33m.\u001b[0m\u001b[0msum\u001b[0m\u001b[1;33m(\u001b[0m\u001b[0mnp\u001b[0m\u001b[1;33m.\u001b[0m\u001b[0mexp\u001b[0m\u001b[1;33m(\u001b[0m\u001b[0marr\u001b[0m \u001b[1;33m-\u001b[0m \u001b[0mvmax\u001b[0m\u001b[1;33m)\u001b[0m\u001b[1;33m,\u001b[0m \u001b[0maxis\u001b[0m\u001b[1;33m=\u001b[0m\u001b[1;36m0\u001b[0m\u001b[1;33m)\u001b[0m\u001b[1;33m)\u001b[0m\u001b[1;33m\u001b[0m\u001b[0m\n\u001b[0m\u001b[0;32m    344\u001b[0m     \u001b[0mout\u001b[0m \u001b[1;33m+=\u001b[0m \u001b[0mvmax\u001b[0m\u001b[1;33m\u001b[0m\u001b[0m\n\u001b[0;32m    345\u001b[0m     \u001b[1;32mreturn\u001b[0m \u001b[0mout\u001b[0m\u001b[1;33m\u001b[0m\u001b[0m\n",
      "\u001b[1;31mKeyboardInterrupt\u001b[0m: "
     ]
    }
   ],
   "source": [
    "from sklearn.ensemble import GradientBoostingClassifier\n",
    "from sklearn.metrics import log_loss\n",
    "from sklearn.cross_validation import train_test_split\n",
    "\n",
    "X_train, X_test, y_train, y_test = train_test_split(X, Y, test_size=0.2, random_state=0)\n",
    "\n",
    "\n",
    "clf = GradientBoostingClassifier(n_estimators=100, learning_rate=0.3,\\\n",
    "                                 max_depth=1, verbose=1, \\\n",
    "                                max_leaf_nodes= 5, subsample= 0.8)\n",
    "\n",
    "clf.fit(X_train, y_train)\n",
    "clf.score(X_test, y_test)"
   ]
  },
  {
   "cell_type": "code",
   "execution_count": 89,
   "metadata": {
    "collapsed": false
   },
   "outputs": [],
   "source": [
    "# Extraction of latents for [#'hotel_market', 'srch_destination_id', 'user_id',\n",
    "# 'user_location_city', 'user_location_region']\n",
    "def target_extractor(chunk):\n",
    "    Y_df = pd.DataFrame(data=chunk['hotel_cluster'])\n",
    "    Y = Y_df.as_matrix()\n",
    "\n",
    "    #enc = OneHotEncoder(n_values=100, dtype= 'int', sparse=False)\n",
    "    #Y = enc.fit_transform(Y_df.as_matrix())\n",
    "    \n",
    "    return Y\n",
    "\n",
    "#chnk = chnk.drop('hotel_cluster', axis=1)\n",
    "#Y"
   ]
  },
  {
   "cell_type": "code",
   "execution_count": null,
   "metadata": {
    "collapsed": false
   },
   "outputs": [],
   "source": [
    "def feature_extractor(chunk):\n",
    "    from sklearn.preprocessing import OneHotEncoder\n",
    "    import pandas as pd\n",
    "\n",
    "    categorical_columns = ['posa_continent', 'hotel_continent', 'srch_destination_type_id',\n",
    "                      'channel', 'site_name', 'hotel_country', 'user_location_country']\n",
    "    n_values_categorical_columns =[5, 7, 10, 11, 54, 213, 240]\n",
    "\n",
    "    latent_columns = ['user_location_region', 'hotel_market', 'user_location_city', \n",
    "                  'srch_destination_id', 'user_id']\n",
    "    # n_values_latent_columns = [1027, 2117, 56508, 65107, 1198785]\n",
    "\n",
    "    other_colums = ['is_booking', 'is_mobile', 'is_package', 'srch_rm_cnt', 'srch_children_cnt'\n",
    "                'srch_adults_cnt', 'cnt', 'orig_destination_distance']\n",
    "\n",
    "    enc = OneHotEncoder(n_values = n_values_categorical_columns, dtype= 'int', sparse=False)\n",
    "    X_df = pd.DataFrame(data= enc.fit_transform(chunk[categorical_columns].as_matrix()))\n",
    "\n",
    "    X_df['date_time'] = pd.DataFrame(data=pd.to_datetime(chunk['date_time']))\n",
    "    X_df['month'] = X_df['date_time'].map(lambda x: x.month)\n",
    "\n",
    "    X_df['ci'] = pd.to_datetime(chunk['srch_ci'])\n",
    "    X_df['co'] = pd.to_datetime(chunk['srch_co'])\n",
    "\n",
    "    X_df['ci'] = (X_df['ci'] - X_df['date_time']).fillna(0)\n",
    "    X_df['ci'] = X_df['ci'].map(lambda x: x.days)\n",
    "\n",
    "    X_df['co'] = (X_df['co'] - X_df['date_time']).fillna(0)\n",
    "    X_df['co'] = X_df['co'].map(lambda x: x.days)\n",
    "\n",
    "    X_df = X_df.drop('date_time',axis=1)\n",
    "\n",
    "    return X_df.as_matrix()\n"
   ]
  },
  {
   "cell_type": "code",
   "execution_count": 94,
   "metadata": {
    "collapsed": false
   },
   "outputs": [
    {
     "name": "stderr",
     "output_type": "stream",
     "text": [
      "C:\\Users\\Dariyush\\Anaconda3\\lib\\site-packages\\sklearn\\utils\\validation.py:515: DataConversionWarning: A column-vector y was passed when a 1d array was expected. Please change the shape of y to (n_samples, ), for example using ravel().\n",
      "  y = column_or_1d(y, warn=True)\n"
     ]
    }
   ],
   "source": [
    "from sklearn import linear_model\n",
    "from sklearn import metrics\n",
    "chunk = train.get_chunk()\n",
    "\n",
    "clf = linear_model.SGDClassifier(loss='log')\n",
    "\n",
    "#for chunk in train:\n",
    "Y = target_extractor(chunk)\n",
    "X = feature_extractor(chunk)\n",
    "#X = X_df.as_matrix()\n",
    "clf.partial_fit(X, Y, classes=np.arange(1, 100))\n",
    "Y_prob = clf.predict_proba(X)\n",
    "#clf.score(X, Y)\n",
    "#Y_pred = clf.predict(X)\n",
    "#X"
   ]
  },
  {
   "cell_type": "code",
   "execution_count": 95,
   "metadata": {
    "collapsed": false
   },
   "outputs": [
    {
     "data": {
      "text/plain": [
       "array([[ 2],\n",
       "       [ 2],\n",
       "       [90],\n",
       "       ..., \n",
       "       [98],\n",
       "       [98],\n",
       "       [98]], dtype=int64)"
      ]
     },
     "execution_count": 95,
     "metadata": {},
     "output_type": "execute_result"
    }
   ],
   "source": [
    "Y"
   ]
  },
  {
   "cell_type": "code",
   "execution_count": 127,
   "metadata": {
    "collapsed": false
   },
   "outputs": [
    {
     "data": {
      "text/plain": [
       "array([89, 55, 38, ..., 24, 58, 58], dtype=int64)"
      ]
     },
     "execution_count": 127,
     "metadata": {},
     "output_type": "execute_result"
    }
   ],
   "source": [
    "np.argmax(Y_prob,axis=1)"
   ]
  },
  {
   "cell_type": "code",
   "execution_count": null,
   "metadata": {
    "collapsed": false
   },
   "outputs": [],
   "source": [
    "df_max=pd.DataFrame()\n",
    "df_min=pd.DataFrame()\n",
    "chunk_shape = []\n",
    "for chunk in train:\n",
    "    df_max = df_max.append(chunk.max(),ignore_index=True)\n",
    "    df_min = df_min.append(chunk.min(),ignore_index=True)\n",
    "    chunk_shape.append(chunk.shape)\n"
   ]
  },
  {
   "cell_type": "code",
   "execution_count": null,
   "metadata": {
    "collapsed": false
   },
   "outputs": [],
   "source": [
    "data_max = df_max.max().astype(int)\n",
    "\n",
    "data_max"
   ]
  },
  {
   "cell_type": "code",
   "execution_count": null,
   "metadata": {
    "collapsed": false
   },
   "outputs": [],
   "source": [
    "data_max[['site_name', 'posa_continent', 'user_location_country',\n",
    "       'user_location_region', 'user_location_city', 'user_id', 'is_mobile', 'is_package',\n",
    "       'channel', 'srch_destination_id', 'srch_destination_type_id',\n",
    "       'is_booking', 'hotel_continent', 'hotel_country', 'hotel_market', 'hotel_cluster']]"
   ]
  },
  {
   "cell_type": "code",
   "execution_count": null,
   "metadata": {
    "collapsed": false
   },
   "outputs": [],
   "source": [
    "'user_location_city', 'user_id', 'srch_destination_id', 'hotel_market'"
   ]
  },
  {
   "cell_type": "code",
   "execution_count": null,
   "metadata": {
    "collapsed": false
   },
   "outputs": [],
   "source": [
    "sample_submission.get_chunk()"
   ]
  },
  {
   "cell_type": "code",
   "execution_count": null,
   "metadata": {
    "collapsed": true
   },
   "outputs": [],
   "source": []
  }
 ],
 "metadata": {
  "kernelspec": {
   "display_name": "Python 3",
   "language": "python",
   "name": "python3"
  },
  "language_info": {
   "codemirror_mode": {
    "name": "ipython",
    "version": 3
   },
   "file_extension": ".py",
   "mimetype": "text/x-python",
   "name": "python",
   "nbconvert_exporter": "python",
   "pygments_lexer": "ipython3",
   "version": "3.5.1"
  }
 },
 "nbformat": 4,
 "nbformat_minor": 0
}
